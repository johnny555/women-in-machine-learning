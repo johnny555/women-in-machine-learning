{
 "cells": [
  {
   "cell_type": "code",
   "execution_count": 1,
   "metadata": {},
   "outputs": [],
   "source": [
    "# Put these at the top of every notebook, to get automatic reloading and inline plotting\n",
    "%reload_ext autoreload\n",
    "%autoreload 2\n",
    "%matplotlib inline"
   ]
  },
  {
   "cell_type": "code",
   "execution_count": 2,
   "metadata": {},
   "outputs": [],
   "source": []
  },
  {
   "cell_type": "code",
   "execution_count": 64,
   "metadata": {},
   "outputs": [],
   "source": [
    "import pathlib\n",
    "from sklearn.model_selection import train_test_split\n",
    "from shutil import copy\n",
    "import os\n",
    "\n",
    "DATAPATH = pathlib.Path( \"/home/john/data/Hey-Waldo/64/\")\n",
    "OUTPUTPATH = pathlib.Path(\"/home/john/data/WheresWally/\")\n",
    "\n",
    "def create_experiment_folders(datapath, outputpath, test_size=0.2, valid_size=0.2):\n",
    "\n",
    "    datapath = pathlib.Path( datapath)\n",
    "    outputpath = pathlib.Path(outputpath)\n",
    "\n",
    "    outputpath.mkdir(exist_ok=True)\n",
    "\n",
    "    class_names = os.listdir(datapath)\n",
    "    print(f\"Found {len(class_names)} classes: {class_names} \")\n",
    "\n",
    "    trn = outputpath/\"train\"\n",
    "    trn.mkdir(exist_ok=True)\n",
    "    val = outputpath/\"valid\"\n",
    "    val.mkdir(exist_ok=True)\n",
    "    tst = outputpath/\"test\"\n",
    "    tst.mkdir(exist_ok=True)\n",
    "\n",
    "    for cl in class_names:\n",
    "        elems = os.listdir(datapath/cl)\n",
    "        trainVal_set, test_set = train_test_split(elems, test_size=test_size)\n",
    "        train_set, val_set = train_test_split(trainVal_set, test_size=valid_size)\n",
    "        print(f'{cl}: train: {len(train_set)} val: {len(val_set)} test: {len(test_set)}')\n",
    "        for set_path, s in zip([trn, val, tst], [train_set, val_set, test_set]):\n",
    "            for i in s:\n",
    "                (set_path/cl).mkdir(exist_ok=True)\n",
    "                copy(datapath/cl/i, set_path/cl/i)\n",
    "\n",
    "    print(f'Finished building experiment folders in {outputpath}')\n",
    "    \n",
    "    "
   ]
  },
  {
   "cell_type": "code",
   "execution_count": 65,
   "metadata": {},
   "outputs": [
    {
     "name": "stdout",
     "output_type": "stream",
     "text": [
      "Found 2 classes: ['notwaldo', 'waldo'] \n",
      "notwaldo: train: 3415 val: 854 test: 1068\n",
      "waldo: train: 24 val: 7 test: 8\n",
      "Finished building experiment folders in /home/john/data/WheresWally\n"
     ]
    }
   ],
   "source": [
    "create_experiment_folders(DATAPATH, OUTPUTPATH)"
   ]
  },
  {
   "cell_type": "markdown",
   "metadata": {},
   "source": [
    "# Unfortunatly, neither of the other 2 datasets provided images in the folder form :("
   ]
  },
  {
   "cell_type": "code",
   "execution_count": 39,
   "metadata": {},
   "outputs": [],
   "source": [
    "ships_path = pathlib.Path(\"/home/john/data/ships-in-satellite-imagery/shipsnet/\")"
   ]
  },
  {
   "cell_type": "code",
   "execution_count": 41,
   "metadata": {
    "scrolled": true
   },
   "outputs": [],
   "source": [
    "image_list = os.listdir(ships_path)"
   ]
  },
  {
   "cell_type": "code",
   "execution_count": 46,
   "metadata": {},
   "outputs": [
    {
     "data": {
      "text/plain": [
       "True"
      ]
     },
     "execution_count": 46,
     "metadata": {},
     "output_type": "execute_result"
    }
   ],
   "source": [
    "s[0] == \"0\""
   ]
  },
  {
   "cell_type": "code",
   "execution_count": 50,
   "metadata": {
    "scrolled": true
   },
   "outputs": [],
   "source": [
    "not_ship = []\n",
    "is_ship = []\n",
    "for s in image_list:\n",
    "    if s[0] == '0':\n",
    "        not_ship.append(s)\n",
    "    elif s[0] == '1':\n",
    "        is_ship.append(s)\n",
    "    else:\n",
    "        print(f\"ERROR {s}\")\n",
    "    \n",
    "        "
   ]
  },
  {
   "cell_type": "code",
   "execution_count": 55,
   "metadata": {},
   "outputs": [
    {
     "name": "stdout",
     "output_type": "stream",
     "text": [
      "copied 700 files to /home/john/data/ships-in-satellite-imagery/shipsnet/fulldata/is_ship\n",
      "copied 2100 files to /home/john/data/ships-in-satellite-imagery/shipsnet/fulldata/not_ship\n"
     ]
    }
   ],
   "source": [
    "full_data_path = ships_path/\"fulldata\"\n",
    "full_data_path.mkdir(exist_ok=True)\n",
    "for label, files in [(\"is_ship\",is_ship),(\"not_ship\",not_ship)]:\n",
    "    folder = full_data_path/label\n",
    "    folder.mkdir(exist_ok=True)\n",
    "    for f in files:\n",
    "        copy(ships_path/f, folder/f)\n",
    "    print(f\"copied {len(files)} files to {folder}\")\n",
    "        "
   ]
  },
  {
   "cell_type": "code",
   "execution_count": 61,
   "metadata": {},
   "outputs": [
    {
     "name": "stdout",
     "output_type": "stream",
     "text": [
      "Found 2 classes: ['is_ship', 'not_ship'] \n",
      "is_ship: train: 448 val: 112 test: 140\n",
      "not_ship: train: 1344 val: 336 test: 420\n",
      "Finished building experiment folders in /home/john/data/sat-ships\n"
     ]
    }
   ],
   "source": [
    "create_experiment_folders(full_data_path, \"/home/john/data/sat-ships/\")"
   ]
  },
  {
   "cell_type": "markdown",
   "metadata": {},
   "source": [
    "# Ok, now let's do the same for the arabic ones... "
   ]
  },
  {
   "cell_type": "code",
   "execution_count": null,
   "metadata": {},
   "outputs": [],
   "source": []
  }
 ],
 "metadata": {
  "kernelspec": {
   "display_name": "Python 3",
   "language": "python",
   "name": "python3"
  },
  "language_info": {
   "codemirror_mode": {
    "name": "ipython",
    "version": 3
   },
   "file_extension": ".py",
   "mimetype": "text/x-python",
   "name": "python",
   "nbconvert_exporter": "python",
   "pygments_lexer": "ipython3",
   "version": "3.6.4"
  }
 },
 "nbformat": 4,
 "nbformat_minor": 2
}
